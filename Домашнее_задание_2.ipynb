{
  "nbformat": 4,
  "nbformat_minor": 0,
  "metadata": {
    "colab": {
      "name": "Домашнее задание 2",
      "provenance": [],
      "collapsed_sections": [],
      "authorship_tag": "ABX9TyPncXdndJDS9g9aV7wAs71O",
      "include_colab_link": true
    },
    "kernelspec": {
      "name": "python3",
      "display_name": "Python 3"
    }
  },
  "cells": [
    {
      "cell_type": "markdown",
      "metadata": {
        "id": "view-in-github",
        "colab_type": "text"
      },
      "source": [
        "<a href=\"https://colab.research.google.com/github/H2D2R2/Dz2/blob/main/%D0%94%D0%BE%D0%BC%D0%B0%D1%88%D0%BD%D0%B5%D0%B5_%D0%B7%D0%B0%D0%B4%D0%B0%D0%BD%D0%B8%D0%B5_2.ipynb\" target=\"_parent\"><img src=\"https://colab.research.google.com/assets/colab-badge.svg\" alt=\"Open In Colab\"/></a>"
      ]
    },
    {
      "cell_type": "markdown",
      "metadata": {
        "id": "T8MEdkDQUER8"
      },
      "source": [
        "# Задание 1\n",
        "Вероятность того, что стрелок попадет в мишень, выстрелив один раз, равна 0.8. Стрелок выстрелил 100 раз. Найдите вероятность того, что стрелок попадет в цель ровно 85 раз."
      ]
    },
    {
      "cell_type": "code",
      "metadata": {
        "id": "hWmWo93INcoJ",
        "outputId": "e550d5bc-5763-49b3-f962-569cf89e6b9d",
        "colab": {
          "base_uri": "https://localhost:8080/"
        }
      },
      "source": [
        "# Решаем методом Биномиального распределения\n",
        "\n",
        "from math import factorial    \n",
        "\n",
        "def combinations(n, k):                                                         \n",
        "    return int(factorial(n) / (factorial(k) * factorial(n - k)))\n",
        "\n",
        "p = 0.8 \n",
        "n = 100\n",
        "k = 85\n",
        "q = 1 - p\n",
        "\n",
        "combinations(n,k) * (p ** k) * (q ** (n-k)) * 100                               #загружаем данные в формулу"
      ],
      "execution_count": null,
      "outputs": [
        {
          "output_type": "execute_result",
          "data": {
            "text/plain": [
              "4.806179370074635"
            ]
          },
          "metadata": {
            "tags": []
          },
          "execution_count": 22
        }
      ]
    },
    {
      "cell_type": "markdown",
      "metadata": {
        "id": "FSVfOZGve9Lh"
      },
      "source": [
        "**Ответ:** вероятность, что стрелок попадет в цель ровно 85 раз - 4.8%"
      ]
    },
    {
      "cell_type": "markdown",
      "metadata": {
        "id": "O5ZWoMW0UKqE"
      },
      "source": [
        "# Задание 2\n",
        "Вероятность того, что лампочка перегорит в течение первого дня эксплуатации, равна 0.0004. В жилом комплексе после ремонта в один день включили 5000 новых лампочек. Какова вероятность, что ни одна из них не перегорит в первый день? Какова вероятность, что перегорят ровно две?"
      ]
    },
    {
      "cell_type": "code",
      "metadata": {
        "id": "7sfIZARQUDSL",
        "outputId": "1f180788-8688-481b-c77b-7645320a3d22",
        "colab": {
          "base_uri": "https://localhost:8080/"
        }
      },
      "source": [
        "# Решаем методом Распределение Пуассона\n",
        "\n",
        "p = 0.0004 #вероятность\n",
        "n = 5000   #число лампочек\n",
        "m1 = 0     #количество перегоревших для первого условия\n",
        "m2 = 2     #количество перегоревших для второго условия\n",
        "lambda_ = p * n\n",
        "lambda_2 = - (p * n )\n",
        "e = 2.72\n",
        "\n",
        "(lambda_ ** m1) / factorial(m1) * (e ** lambda_2) *100                          #загружаем данные в формулу"
      ],
      "execution_count": null,
      "outputs": [
        {
          "output_type": "execute_result",
          "data": {
            "text/plain": [
              "13.516435986159166"
            ]
          },
          "metadata": {
            "tags": []
          },
          "execution_count": 31
        }
      ]
    },
    {
      "cell_type": "code",
      "metadata": {
        "id": "zH8uFQ_LYScO",
        "outputId": "510dde31-d37b-4b82-f460-add6344bd34b",
        "colab": {
          "base_uri": "https://localhost:8080/"
        }
      },
      "source": [
        "(lambda_ ** m2) / factorial(m2) * (e ** lambda_2) *100                          #загружаем данные для второго условия в формулу "
      ],
      "execution_count": null,
      "outputs": [
        {
          "output_type": "execute_result",
          "data": {
            "text/plain": [
              "27.032871972318333"
            ]
          },
          "metadata": {
            "tags": []
          },
          "execution_count": 32
        }
      ]
    },
    {
      "cell_type": "markdown",
      "metadata": {
        "id": "7M6z3ixLewln"
      },
      "source": [
        "**Ответ:** Вероятность отсутствия перегоревших лампочек - 13,5%. Вероятность, что перегорят ровно две - 27%"
      ]
    },
    {
      "cell_type": "markdown",
      "metadata": {
        "id": "212luGiDZ8In"
      },
      "source": [
        "# Задание 3\n",
        "Монету подбросили 144 раза. Какова вероятность, что орел выпадет ровно 70 раз?"
      ]
    },
    {
      "cell_type": "code",
      "metadata": {
        "id": "QkvCsF5oaG26",
        "outputId": "3c42eaf5-bc2f-4a66-e347-bb6bf4aea02e",
        "colab": {
          "base_uri": "https://localhost:8080/"
        }
      },
      "source": [
        "# Решаем методом Биномиального распределения\n",
        "\n",
        "def combinations(n, k):                                                         \n",
        "    return int(factorial(n) / (factorial(k) * factorial(n - k)))\n",
        "\n",
        "p = 0.5 \n",
        "n = 144\n",
        "k = 70\n",
        "q = 1 - p\n",
        "\n",
        "combinations(n,k) * (p ** k) * (q ** (n-k)) * 100                               #загружаем данные в формулу "
      ],
      "execution_count": null,
      "outputs": [
        {
          "output_type": "execute_result",
          "data": {
            "text/plain": [
              "6.281178035144776"
            ]
          },
          "metadata": {
            "tags": []
          },
          "execution_count": 33
        }
      ]
    },
    {
      "cell_type": "markdown",
      "metadata": {
        "id": "xDNY_kSfen7r"
      },
      "source": [
        "**Ответ:** вероятность выпадения орла 70 раз - 6.28 %."
      ]
    },
    {
      "cell_type": "markdown",
      "metadata": {
        "id": "2-IilbaNaqoj"
      },
      "source": [
        "# Задание 4\n",
        "\n",
        "В первом ящике находится 10 мячей, из которых 7 - белые. Во втором ящике - 11 мячей, из которых 9 белых. Из каждого ящика вытаскивают случайным образом по два мяча. Какова вероятность того, что все мячи белые? Какова вероятность того, что ровно два мяча белые? Какова вероятность того, что хотя бы один мяч белый?"
      ]
    },
    {
      "cell_type": "code",
      "metadata": {
        "id": "FG3CWFG8b1fC",
        "outputId": "5ca0685f-574a-49d2-fdf7-b09cb8afb154",
        "colab": {
          "base_uri": "https://localhost:8080/"
        }
      },
      "source": [
        "(7/10 * 6/9) + (9/11 * 8/10)"
      ],
      "execution_count": null,
      "outputs": [
        {
          "output_type": "execute_result",
          "data": {
            "text/plain": [
              "1.121212121212121"
            ]
          },
          "metadata": {
            "tags": []
          },
          "execution_count": 3
        }
      ]
    },
    {
      "cell_type": "code",
      "metadata": {
        "id": "c17HF0EYccJC",
        "outputId": "de8b6e19-ade8-4041-de82-8a62112f1f87",
        "colab": {
          "base_uri": "https://localhost:8080/"
        }
      },
      "source": [
        "(7/10 * 7/9) + (9/11 * 9/10)"
      ],
      "execution_count": null,
      "outputs": [
        {
          "output_type": "execute_result",
          "data": {
            "text/plain": [
              "1.2808080808080808"
            ]
          },
          "metadata": {
            "tags": []
          },
          "execution_count": 2
        }
      ]
    },
    {
      "cell_type": "markdown",
      "metadata": {
        "id": "JFiTDmdYddw-"
      },
      "source": [
        "**Ответ:** вероятность вытащить все белые мечи такая же, как и достать белым хотя бы один мяч - 1.21 . Вероятность вытащить ровно два белых мяча - 1.28 ."
      ]
    }
  ]
}